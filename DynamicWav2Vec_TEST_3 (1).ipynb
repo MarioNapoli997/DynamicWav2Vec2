{
  "nbformat": 4,
  "nbformat_minor": 0,
  "metadata": {
    "colab": {
      "provenance": [],
      "gpuType": "T4"
    },
    "kernelspec": {
      "name": "python3",
      "display_name": "Python 3"
    },
    "language_info": {
      "name": "python"
    },
    "accelerator": "GPU",
    "gpuClass": "standard"
  },
  "cells": [
    {
      "cell_type": "code",
      "source": [
        "!pip install transformers datasets einops timm --quiet"
      ],
      "metadata": {
        "id": "57RrbkRbvROK"
      },
      "execution_count": 1,
      "outputs": []
    },
    {
      "cell_type": "code",
      "source": [
        "import torch\n",
        "import torch.nn as nn\n",
        "import torch.nn.functional as F\n",
        "import numpy as np\n",
        "\n",
        "from einops.layers.torch import Rearrange\n",
        "from einops import reduce, rearrange, repeat\n",
        "\n",
        "import transformers\n",
        "from transformers.modeling_outputs import BaseModelOutput, CausalLMOutput, MaskedLMOutput\n",
        "\n",
        "from typing import Optional, Tuple\n",
        "\n",
        "from transformers.activations import ACT2FN\n"
      ],
      "metadata": {
        "id": "-vCHqdBwvRLR"
      },
      "execution_count": 2,
      "outputs": []
    },
    {
      "cell_type": "code",
      "source": [
        "class DropPredictor(nn.Module):\n",
        "    \"\"\" Computes the log-probabilities of dropping a token, adapted from PredictorLG here:\n",
        "    https://github.com/raoyongming/DynamicViT/blob/48ac52643a637ed5a4cf7c7d429dcf17243794cd/models/dyvit.py#L287 \"\"\"\n",
        "    def __init__(self, embed_dim):\n",
        "        super().__init__()\n",
        "        self.in_conv = nn.Sequential(\n",
        "            nn.LayerNorm(embed_dim),\n",
        "            nn.Linear(embed_dim, embed_dim),\n",
        "            nn.GELU()\n",
        "        )\n",
        "\n",
        "        self.out_conv = nn.Sequential(\n",
        "            nn.Linear(embed_dim, embed_dim // 2),\n",
        "            nn.GELU(),\n",
        "            nn.Linear(embed_dim // 2, embed_dim // 4),\n",
        "            nn.GELU(),\n",
        "            nn.Linear(embed_dim // 4, 2),\n",
        "            nn.Softmax(dim=-1)\n",
        "        )\n",
        "\n",
        "    def forward(self, x, policy):\n",
        "        x = self.in_conv(x)\n",
        "        B, N, C = x.size()\n",
        "        local_x = x[:,:, :C//2]\n",
        "        global_x = (x[:,:, C//2:] * policy).sum(dim=1, keepdim=True) / (torch.sum(policy, dim=1, keepdim=True)+0.000001)\n",
        "        x = torch.cat([local_x, global_x.expand(B, N, C//2)], dim=-1)\n",
        "        return self.out_conv(x)"
      ],
      "metadata": {
        "id": "kO7Pws_I5fk_"
      },
      "execution_count": 3,
      "outputs": []
    },
    {
      "cell_type": "code",
      "source": [
        "class Wav2Vec2PositionalConvEmbedding(nn.Module):\n",
        "    def __init__(self, config):\n",
        "        super().__init__()\n",
        "        self.conv = nn.Conv1d(\n",
        "            config.hidden_size,\n",
        "            config.hidden_size,\n",
        "            kernel_size=config.num_conv_pos_embeddings,\n",
        "            padding=config.num_conv_pos_embeddings // 2,\n",
        "            groups=config.num_conv_pos_embedding_groups,\n",
        "        )\n",
        "        self.conv = nn.utils.weight_norm(self.conv, name=\"weight\", dim=2)\n",
        "        self.padding = Wav2Vec2SamePadLayer(config.num_conv_pos_embeddings)\n",
        "        self.activation = ACT2FN[config.feat_extract_activation]\n",
        "\n",
        "    def forward(self, hidden_states):\n",
        "        hidden_states = hidden_states.transpose(1, 2)\n",
        "\n",
        "        hidden_states = self.conv(hidden_states)\n",
        "        hidden_states = self.padding(hidden_states)\n",
        "        hidden_states = self.activation(hidden_states)\n",
        "\n",
        "        hidden_states = hidden_states.transpose(1, 2)\n",
        "        return hidden_states"
      ],
      "metadata": {
        "id": "OAQjhfUFvRIp"
      },
      "execution_count": 4,
      "outputs": []
    },
    {
      "cell_type": "code",
      "source": [
        "class Wav2Vec2SamePadLayer(nn.Module):\n",
        "    def __init__(self, num_conv_pos_embeddings):\n",
        "        super().__init__()\n",
        "        self.num_pad_remove = 1 if num_conv_pos_embeddings % 2 == 0 else 0\n",
        "\n",
        "    def forward(self, hidden_states):\n",
        "        if self.num_pad_remove > 0:\n",
        "            hidden_states = hidden_states[:, :, : -self.num_pad_remove]\n",
        "        return hidden_states"
      ],
      "metadata": {
        "id": "3mYLnV2RxE86"
      },
      "execution_count": 5,
      "outputs": []
    },
    {
      "cell_type": "code",
      "source": [
        "class Wav2Vec2EncoderLayer(nn.Module):\n",
        "    def __init__(self, config):\n",
        "        super().__init__()\n",
        "        self.attention = Wav2Vec2Attention(\n",
        "            embed_dim=config.hidden_size,\n",
        "            num_heads=config.num_attention_heads,\n",
        "            dropout=config.attention_dropout,\n",
        "            is_decoder=False,\n",
        "        )\n",
        "        self.dropout = nn.Dropout(config.hidden_dropout)\n",
        "        self.layer_norm = nn.LayerNorm(config.hidden_size, eps=config.layer_norm_eps)\n",
        "        self.feed_forward = Wav2Vec2FeedForward(config)\n",
        "        self.final_layer_norm = nn.LayerNorm(config.hidden_size, eps=config.layer_norm_eps)\n",
        "\n",
        "    def forward(self, hidden_states, policy = None, attention_mask=None, output_attentions=False):\n",
        "        attn_residual = hidden_states\n",
        "        hidden_states, attn_weights, _ = self.attention(\n",
        "            hidden_states, policy, attention_mask=attention_mask, output_attentions=output_attentions\n",
        "        )\n",
        "        hidden_states = self.dropout(hidden_states)\n",
        "        hidden_states = attn_residual + hidden_states\n",
        "\n",
        "        hidden_states = self.layer_norm(hidden_states)\n",
        "        hidden_states = hidden_states + self.feed_forward(hidden_states)\n",
        "        hidden_states = self.final_layer_norm(hidden_states)\n",
        "\n",
        "        outputs = (hidden_states,)\n",
        "\n",
        "        if output_attentions:\n",
        "            outputs += (attn_weights,)\n",
        "\n",
        "        return outputs"
      ],
      "metadata": {
        "id": "ryDLQmJWvRFh"
      },
      "execution_count": 6,
      "outputs": []
    },
    {
      "cell_type": "code",
      "source": [
        "class Wav2Vec2FeedForward(nn.Module):\n",
        "    def __init__(self, config):\n",
        "        super().__init__()\n",
        "        self.intermediate_dropout = nn.Dropout(config.activation_dropout)\n",
        "\n",
        "        self.intermediate_dense = nn.Linear(config.hidden_size, config.intermediate_size)\n",
        "        if isinstance(config.hidden_act, str):\n",
        "            self.intermediate_act_fn = ACT2FN[config.hidden_act]\n",
        "        else:\n",
        "            self.intermediate_act_fn = config.hidden_act\n",
        "\n",
        "        self.output_dense = nn.Linear(config.intermediate_size, config.hidden_size)\n",
        "        self.output_dropout = nn.Dropout(config.hidden_dropout)\n",
        "\n",
        "    def forward(self, hidden_states):\n",
        "        hidden_states = self.intermediate_dense(hidden_states)\n",
        "        hidden_states = self.intermediate_act_fn(hidden_states)\n",
        "        hidden_states = self.intermediate_dropout(hidden_states)\n",
        "\n",
        "        hidden_states = self.output_dense(hidden_states)\n",
        "        hidden_states = self.output_dropout(hidden_states)\n",
        "        return hidden_states"
      ],
      "metadata": {
        "id": "G7srHVJRxLSF"
      },
      "execution_count": 7,
      "outputs": []
    },
    {
      "cell_type": "code",
      "source": [
        "class Wav2Vec2Attention(nn.Module):\n",
        "    \"\"\"Multi-headed attention from 'Attention Is All You Need' paper\"\"\"\n",
        "\n",
        "    def __init__(\n",
        "        self,\n",
        "        embed_dim: int,\n",
        "        num_heads: int,\n",
        "        dropout: float = 0.0,\n",
        "        is_decoder: bool = False,\n",
        "        bias: bool = True,\n",
        "    ):\n",
        "        super().__init__()\n",
        "        self.embed_dim = embed_dim\n",
        "        self.num_heads = num_heads\n",
        "        self.dropout = dropout\n",
        "        self.head_dim = embed_dim // num_heads\n",
        "        assert (\n",
        "            self.head_dim * num_heads == self.embed_dim\n",
        "        ), f\"embed_dim must be divisible by num_heads (got `embed_dim`: {self.embed_dim} and `num_heads`: {num_heads}).\"\n",
        "        self.scaling = self.head_dim ** -0.5\n",
        "        self.is_decoder = is_decoder\n",
        "\n",
        "        self.k_proj = nn.Linear(embed_dim, embed_dim, bias=bias)\n",
        "        self.v_proj = nn.Linear(embed_dim, embed_dim, bias=bias)\n",
        "        self.q_proj = nn.Linear(embed_dim, embed_dim, bias=bias)\n",
        "        self.out_proj = nn.Linear(embed_dim, embed_dim, bias=bias)\n",
        "\n",
        "    def _shape(self, tensor: torch.Tensor, seq_len: int, bsz: int):\n",
        "        return tensor.view(bsz, seq_len, self.num_heads, self.head_dim).transpose(1, 2).contiguous()\n",
        "\n",
        "    def softmax_with_policy(self, attn, policy, eps=1e-6):\n",
        "      # This is the masked softmax (Eq. (11) in the paper), \n",
        "      # taken from here: https://github.com/raoyongming/DynamicViT/blob/master/models/dyvit.py\n",
        "      B, N, _ = policy.size()\n",
        "\n",
        "      H, N, N = attn.size()\n",
        "\n",
        "      #B, H, N = attn.size()\n",
        "\n",
        "      attn_policy = policy.reshape(1, 1, N)  # * policy.reshape(B, 1, N, 1)\n",
        "      eye = torch.eye(N, dtype=attn_policy.dtype, device=attn_policy.device).view(1, N, N)\n",
        "      attn_policy = attn_policy + (1.0 - attn_policy) * eye\n",
        "      max_att = torch.max(attn, dim=-1, keepdim=True)[0]\n",
        "      attn = attn - max_att\n",
        "      # attn = attn.exp_() * attn_policy\n",
        "      # return attn / attn.sum(dim=-1, keepdim=True)\n",
        "\n",
        "      # for stable training\n",
        "      attn = attn.to(torch.float32).exp_() * attn_policy.to(torch.float32)\n",
        "      attn = (attn + eps/N) / (attn.sum(dim=-1, keepdim=True) + eps)\n",
        "      return attn.type_as(max_att)\n",
        "\n",
        "    def forward(\n",
        "        self,\n",
        "        hidden_states: torch.Tensor, policy,\n",
        "        key_value_states: Optional[torch.Tensor] = None,\n",
        "        past_key_value: Optional[Tuple[torch.Tensor]] = None,\n",
        "        attention_mask: Optional[torch.Tensor] = None,\n",
        "        layer_head_mask: Optional[torch.Tensor] = None,\n",
        "        output_attentions: bool = False,\n",
        "    ) -> Tuple[torch.Tensor, Optional[torch.Tensor], Optional[Tuple[torch.Tensor]]]:\n",
        "        \"\"\"Input shape: Batch x Time x Channel\"\"\"\n",
        "\n",
        "        # if key_value_states are provided this layer is used as a cross-attention layer\n",
        "        # for the decoder\n",
        "        is_cross_attention = key_value_states is not None\n",
        "        bsz, tgt_len, embed_dim = hidden_states.size()\n",
        "\n",
        "        # get query proj\n",
        "        query_states = self.q_proj(hidden_states) * self.scaling\n",
        "        # get key, value proj\n",
        "        if is_cross_attention and past_key_value is not None:\n",
        "            # reuse k,v, cross_attentions\n",
        "            key_states = past_key_value[0]\n",
        "            value_states = past_key_value[1]\n",
        "        elif is_cross_attention:\n",
        "            # cross_attentions\n",
        "            key_states = self._shape(self.k_proj(key_value_states), -1, bsz)\n",
        "            value_states = self._shape(self.v_proj(key_value_states), -1, bsz)\n",
        "        elif past_key_value is not None:\n",
        "            # reuse k, v, self_attention\n",
        "            key_states = self._shape(self.k_proj(hidden_states), -1, bsz)\n",
        "            value_states = self._shape(self.v_proj(hidden_states), -1, bsz)\n",
        "            key_states = torch.cat([past_key_value[0], key_states], dim=2)\n",
        "            value_states = torch.cat([past_key_value[1], value_states], dim=2)\n",
        "        else:\n",
        "            # self_attention\n",
        "            key_states = self._shape(self.k_proj(hidden_states), -1, bsz)\n",
        "            value_states = self._shape(self.v_proj(hidden_states), -1, bsz)\n",
        "\n",
        "        if self.is_decoder:\n",
        "            # if cross_attention save Tuple(torch.Tensor, torch.Tensor) of all cross attention key/value_states.\n",
        "            # Further calls to cross_attention layer can then reuse all cross-attention\n",
        "            # key/value_states (first \"if\" case)\n",
        "            # if uni-directional self-attention (decoder) save Tuple(torch.Tensor, torch.Tensor) of\n",
        "            # all previous decoder key/value_states. Further calls to uni-directional self-attention\n",
        "            # can concat previous decoder key/value_states to current projected key/value_states (third \"elif\" case)\n",
        "            # if encoder bi-directional self-attention `past_key_value` is always `None`\n",
        "            past_key_value = (key_states, value_states)\n",
        "\n",
        "        proj_shape = (bsz * self.num_heads, -1, self.head_dim)\n",
        "        query_states = self._shape(query_states, tgt_len, bsz).view(*proj_shape)\n",
        "        key_states = key_states.view(*proj_shape)\n",
        "        value_states = value_states.view(*proj_shape)\n",
        "\n",
        "        src_len = key_states.size(1)\n",
        "        attn_weights = torch.bmm(query_states, key_states.transpose(1, 2))\n",
        "\n",
        "        #attn_weights = torch.einsum('bhlk,bhtk->bhlt', [query_states, key_states.transpose(1, 2)]) / np.sqrt(query_states.shape[-1])\n",
        "\n",
        "        assert attn_weights.size() == (\n",
        "            bsz * self.num_heads,\n",
        "            tgt_len,\n",
        "            src_len,\n",
        "        ), f\"Attention weights should be of size {(bsz * self.num_heads, tgt_len, src_len)}, but is {attn_weights.size()}\"\n",
        "\n",
        "        if attention_mask is not None:\n",
        "            assert attention_mask.size() == (\n",
        "                bsz,\n",
        "                1,\n",
        "                tgt_len,\n",
        "                src_len,\n",
        "            ), f\"Attention mask should be of size {(bsz, 1, tgt_len, src_len)}, but is {attention_mask.size()}\"\n",
        "            attn_weights = attn_weights.view(bsz, self.num_heads, tgt_len, src_len) + attention_mask\n",
        "            attn_weights = attn_weights.view(bsz * self.num_heads, tgt_len, src_len)\n",
        "\n",
        "        print(policy.shape)\n",
        "\n",
        "        if policy is None:\n",
        "          attn_weights = F.softmax(attn_weights, dim=-1)\n",
        "        else:\n",
        "          attn_weights = self.softmax_with_policy(attn_weights, policy)\n",
        "\n",
        "        if layer_head_mask is not None:\n",
        "            assert layer_head_mask.size() == (\n",
        "                self.num_heads,\n",
        "            ), f\"Head mask for a single layer should be of size {(self.num_heads,)}, but is {layer_head_mask.size()}\"\n",
        "            attn_weights = layer_head_mask.view(1, -1, 1, 1) * attn_weights.view(bsz, self.num_heads, tgt_len, src_len)\n",
        "            attn_weights = attn_weights.view(bsz * self.num_heads, tgt_len, src_len)\n",
        "\n",
        "        if output_attentions:\n",
        "            # this operation is a bit akward, but it's required to\n",
        "            # make sure that attn_weights keeps its gradient.\n",
        "            # In order to do so, attn_weights have to reshaped\n",
        "            # twice and have to be reused in the following\n",
        "            attn_weights_reshaped = attn_weights.view(bsz, self.num_heads, tgt_len, src_len)\n",
        "            attn_weights = attn_weights_reshaped.view(bsz * self.num_heads, tgt_len, src_len)\n",
        "        else:\n",
        "            attn_weights_reshaped = None\n",
        "\n",
        "        attn_probs = F.dropout(attn_weights, p=self.dropout, training=self.training)\n",
        "\n",
        "        attn_output = torch.bmm(attn_probs, value_states)\n",
        "\n",
        "        assert attn_output.size() == (\n",
        "            bsz * self.num_heads,\n",
        "            tgt_len,\n",
        "            self.head_dim,\n",
        "        ), f\"`attn_output` should be of size {(bsz, self.num_heads, tgt_len, self.head_dim)}, but is {attn_output.size()}\"\n",
        "\n",
        "        attn_output = (\n",
        "            attn_output.view(bsz, self.num_heads, tgt_len, self.head_dim)\n",
        "            .transpose(1, 2)\n",
        "            .reshape(bsz, tgt_len, embed_dim)\n",
        "        )\n",
        "\n",
        "        attn_output = self.out_proj(attn_output)\n",
        "\n",
        "        return attn_output, attn_weights_reshaped, past_key_value"
      ],
      "metadata": {
        "id": "fw7ZVm3NvRCb"
      },
      "execution_count": 8,
      "outputs": []
    },
    {
      "cell_type": "code",
      "source": [
        "class MyWav2Vec2Encoder(transformers.models.wav2vec2.modeling_wav2vec2.Wav2Vec2Encoder):\n",
        "  def __init__(self, config, d_model = 1024, n_blocks = 24):\n",
        "        super().__init__(config)\n",
        "        self.config = config\n",
        "        self.pos_conv_embed = Wav2Vec2PositionalConvEmbedding(config)\n",
        "        self.layer_norm = nn.LayerNorm(config.hidden_size, eps=config.layer_norm_eps)\n",
        "        self.dropout = nn.Dropout(config.hidden_dropout)\n",
        "        self.layers = nn.ModuleList([Wav2Vec2EncoderLayer(config) for _ in range(config.num_hidden_layers)])\n",
        "        self.score_predictor = nn.ModuleList([DropPredictor(d_model) for _ in range(n_blocks)])\n",
        "\n",
        "\n",
        "  def forward(\n",
        "        self,\n",
        "        hidden_states,\n",
        "        attention_mask=None,\n",
        "        output_attentions=False,\n",
        "        output_hidden_states=False,\n",
        "        return_dict=True, drop_temp = 1,\n",
        "    ):\n",
        "    all_hidden_states = () if output_hidden_states else None\n",
        "    all_self_attentions = () if output_attentions else None\n",
        "\n",
        "    if attention_mask is not None:\n",
        "      # make sure padded tokens output 0\n",
        "      hidden_states[~attention_mask] = 0.0\n",
        "\n",
        "      # extend attention_mask\n",
        "      attention_mask = (1.0 - attention_mask[:, None, None, :].to(dtype=hidden_states.dtype)) * -10000.0\n",
        "      attention_mask = attention_mask.expand(\n",
        "          attention_mask.shape[0], 1, attention_mask.shape[-1], attention_mask.shape[-1]\n",
        "          )\n",
        "\n",
        "    position_embeddings = self.pos_conv_embed(hidden_states)\n",
        "    hidden_states = hidden_states + position_embeddings\n",
        "    hidden_states = self.layer_norm(hidden_states)\n",
        "    hidden_states = self.dropout(hidden_states)\n",
        "\n",
        "    # Initialize drop decisions\n",
        "    B, P, _ = hidden_states.shape\n",
        "    prev_decision = torch.ones(B, P, 1, dtype=hidden_states.dtype, device=hidden_states.device)\n",
        "    policy = torch.ones(B, P, 1, dtype=hidden_states.dtype, device=hidden_states.device)\n",
        "    \n",
        "    out_pred_prob = []\n",
        "    pred_distr = [[],[],[],[]]\n",
        "\n",
        "\n",
        "    for i,layer in enumerate(self.layers):\n",
        "\n",
        "      if i in [4, 7, 11]:  \n",
        "        \n",
        "        # Current drop score\n",
        "        pred_score = self.score_predictor[i](hidden_states, prev_decision)#.reshape(B, -1, 2)\n",
        "        keepall = torch.cat((torch.zeros_like(pred_score[:,:,0:1]), torch.ones_like(pred_score[:,:,1:2])),2) \n",
        "        pred_score = pred_score*drop_temp + keepall*(1-drop_temp)\n",
        "\n",
        "        if True: #self.training:\n",
        "\n",
        "          # Convert to log-prob\n",
        "          pred_score = torch.log(pred_score + 1e-8)\n",
        "          \n",
        "          # Sample mask and update previous one\n",
        "          hard_keep_decision = F.gumbel_softmax(pred_score, hard = True)[:, :, 1:2]*prev_decision\n",
        "        \n",
        "        else:\n",
        "          \n",
        "          # Treshold mask and update previous one\n",
        "          hard_keep_decision = (pred_score[:, :, 1:2] > 0.9).float() * prev_decision\n",
        "        \n",
        "        policy = hard_keep_decision\n",
        "        prev_decision = hard_keep_decision\n",
        "\n",
        "\n",
        "       \n",
        "      if output_hidden_states:\n",
        "        all_hidden_states = all_hidden_states + (hidden_states,)\n",
        "\n",
        "      # add LayerDrop (see https://arxiv.org/abs/1909.11556 for description)\n",
        "      dropout_probability = np.random.uniform(0, 1)\n",
        "\n",
        "      if self.training and (dropout_probability < self.config.layerdrop):  # skip the layer\n",
        "        layer_outputs = (None, None)\n",
        "      else:\n",
        "        if getattr(self.config, \"gradient_checkpointing\", False) and self.training:\n",
        "          # create gradient checkpointing function\n",
        "          def create_custom_forward(module):\n",
        "            def custom_forward(*inputs):\n",
        "              return module(*inputs, output_attentions)\n",
        "\n",
        "            return custom_forward\n",
        "\n",
        "          layer_outputs = torch.utils.checkpoint.checkpoint(\n",
        "              create_custom_forward(layer),\n",
        "              hidden_states,\n",
        "              attention_mask,\n",
        "                      )\n",
        "        else:\n",
        "          layer_outputs = layer(\n",
        "              hidden_states, policy, attention_mask=attention_mask, output_attentions=output_attentions\n",
        "                    )\n",
        "          hidden_states = layer_outputs[0]\n",
        "\n",
        "      if output_attentions:\n",
        "        all_self_attentions = all_self_attentions + (layer_outputs[1],)\n",
        "\n",
        "    if output_hidden_states:\n",
        "            all_hidden_states = all_hidden_states + (hidden_states,)\n",
        "\n",
        "    if not return_dict:\n",
        "      return tuple(v for v in [hidden_states, all_hidden_states, all_self_attentions] if v is not None)\n",
        "    return BaseModelOutput(\n",
        "            last_hidden_state=hidden_states,\n",
        "            hidden_states=all_hidden_states,\n",
        "            attentions=all_self_attentions,\n",
        "        )"
      ],
      "metadata": {
        "id": "1OXD0rCtuNTQ"
      },
      "execution_count": 9,
      "outputs": []
    },
    {
      "cell_type": "code",
      "source": [
        "from transformers import Wav2Vec2ForCTC, Wav2Vec2Config\n",
        "\n",
        "config = Wav2Vec2Config.from_pretrained('facebook/wav2vec2-large-960h')\n",
        "model = Wav2Vec2ForCTC.from_pretrained('facebook/wav2vec2-large-960h', config=config)\n",
        "#model.encoder = MyWav2Vec2Encoder(config)  # replace the encoder with the new one"
      ],
      "metadata": {
        "colab": {
          "base_uri": "https://localhost:8080/"
        },
        "id": "Z2X88rXOuNRb",
        "outputId": "8500a9b9-055e-40e8-e564-75ba98da931e"
      },
      "execution_count": 10,
      "outputs": [
        {
          "output_type": "stream",
          "name": "stderr",
          "text": [
            "Some weights of Wav2Vec2ForCTC were not initialized from the model checkpoint at facebook/wav2vec2-large-960h and are newly initialized: ['wav2vec2.masked_spec_embed']\n",
            "You should probably TRAIN this model on a down-stream task to be able to use it for predictions and inference.\n"
          ]
        }
      ]
    },
    {
      "cell_type": "code",
      "source": [
        "## Original model \n",
        "\n",
        "model"
      ],
      "metadata": {
        "colab": {
          "base_uri": "https://localhost:8080/"
        },
        "id": "xIiK2_0TuNPG",
        "outputId": "3b03cdf4-f85f-4e0d-c902-206886962886"
      },
      "execution_count": 10,
      "outputs": [
        {
          "output_type": "execute_result",
          "data": {
            "text/plain": [
              "Wav2Vec2ForCTC(\n",
              "  (wav2vec2): Wav2Vec2Model(\n",
              "    (feature_extractor): Wav2Vec2FeatureEncoder(\n",
              "      (conv_layers): ModuleList(\n",
              "        (0): Wav2Vec2GroupNormConvLayer(\n",
              "          (conv): Conv1d(1, 512, kernel_size=(10,), stride=(5,), bias=False)\n",
              "          (activation): GELUActivation()\n",
              "          (layer_norm): GroupNorm(512, 512, eps=1e-05, affine=True)\n",
              "        )\n",
              "        (1-4): 4 x Wav2Vec2NoLayerNormConvLayer(\n",
              "          (conv): Conv1d(512, 512, kernel_size=(3,), stride=(2,), bias=False)\n",
              "          (activation): GELUActivation()\n",
              "        )\n",
              "        (5-6): 2 x Wav2Vec2NoLayerNormConvLayer(\n",
              "          (conv): Conv1d(512, 512, kernel_size=(2,), stride=(2,), bias=False)\n",
              "          (activation): GELUActivation()\n",
              "        )\n",
              "      )\n",
              "    )\n",
              "    (feature_projection): Wav2Vec2FeatureProjection(\n",
              "      (layer_norm): LayerNorm((512,), eps=1e-05, elementwise_affine=True)\n",
              "      (projection): Linear(in_features=512, out_features=1024, bias=True)\n",
              "      (dropout): Dropout(p=0.0, inplace=False)\n",
              "    )\n",
              "    (encoder): Wav2Vec2Encoder(\n",
              "      (pos_conv_embed): Wav2Vec2PositionalConvEmbedding(\n",
              "        (conv): Conv1d(1024, 1024, kernel_size=(128,), stride=(1,), padding=(64,), groups=16)\n",
              "        (padding): Wav2Vec2SamePadLayer()\n",
              "        (activation): GELUActivation()\n",
              "      )\n",
              "      (layer_norm): LayerNorm((1024,), eps=1e-05, elementwise_affine=True)\n",
              "      (dropout): Dropout(p=0.1, inplace=False)\n",
              "      (layers): ModuleList(\n",
              "        (0-23): 24 x Wav2Vec2EncoderLayer(\n",
              "          (attention): Wav2Vec2Attention(\n",
              "            (k_proj): Linear(in_features=1024, out_features=1024, bias=True)\n",
              "            (v_proj): Linear(in_features=1024, out_features=1024, bias=True)\n",
              "            (q_proj): Linear(in_features=1024, out_features=1024, bias=True)\n",
              "            (out_proj): Linear(in_features=1024, out_features=1024, bias=True)\n",
              "          )\n",
              "          (dropout): Dropout(p=0.1, inplace=False)\n",
              "          (layer_norm): LayerNorm((1024,), eps=1e-05, elementwise_affine=True)\n",
              "          (feed_forward): Wav2Vec2FeedForward(\n",
              "            (intermediate_dropout): Dropout(p=0.1, inplace=False)\n",
              "            (intermediate_dense): Linear(in_features=1024, out_features=4096, bias=True)\n",
              "            (intermediate_act_fn): GELUActivation()\n",
              "            (output_dense): Linear(in_features=4096, out_features=1024, bias=True)\n",
              "            (output_dropout): Dropout(p=0.1, inplace=False)\n",
              "          )\n",
              "          (final_layer_norm): LayerNorm((1024,), eps=1e-05, elementwise_affine=True)\n",
              "        )\n",
              "      )\n",
              "    )\n",
              "  )\n",
              "  (dropout): Dropout(p=0.1, inplace=False)\n",
              "  (lm_head): Linear(in_features=1024, out_features=32, bias=True)\n",
              ")"
            ]
          },
          "metadata": {},
          "execution_count": 10
        }
      ]
    },
    {
      "cell_type": "code",
      "source": [
        "model.wav2vec2.encoder = MyWav2Vec2Encoder(config)"
      ],
      "metadata": {
        "id": "vcWRn1WVuNMw"
      },
      "execution_count": 11,
      "outputs": []
    },
    {
      "cell_type": "code",
      "source": [
        "## Model with new encoder\n",
        "\n",
        "model"
      ],
      "metadata": {
        "id": "3AqwGxyBuNKb"
      },
      "execution_count": null,
      "outputs": []
    },
    {
      "cell_type": "code",
      "source": [
        "from transformers import AutoProcessor\n",
        "\n",
        "processor = AutoProcessor.from_pretrained(\"facebook/wav2vec2-base-960h\")"
      ],
      "metadata": {
        "id": "plp0SRkfxuny"
      },
      "execution_count": 12,
      "outputs": []
    },
    {
      "cell_type": "code",
      "source": [
        "from datasets import load_dataset\n",
        "\n",
        "dataset = load_dataset(\"hf-internal-testing/librispeech_asr_demo\", \"clean\", split=\"validation\")\n",
        "dataset = dataset.sort(\"id\")\n",
        "sampling_rate = dataset.features[\"audio\"].sampling_rate"
      ],
      "metadata": {
        "colab": {
          "base_uri": "https://localhost:8080/"
        },
        "id": "4q8p0VFRx5DS",
        "outputId": "35c88cd9-156e-4eeb-f086-397f0aaef939"
      },
      "execution_count": 13,
      "outputs": [
        {
          "output_type": "stream",
          "name": "stderr",
          "text": [
            "WARNING:datasets.builder:Found cached dataset librispeech_asr_demo (/root/.cache/huggingface/datasets/hf-internal-testing___librispeech_asr_demo/clean/2.1.0/d3bc4c2bc2078fcde3ad0f0f635862e4c0fef78ba94c4a34c4c250a097af240b)\n"
          ]
        }
      ]
    },
    {
      "cell_type": "code",
      "source": [
        "#audio file is decoded on the fly\n",
        "\n",
        "inputs = processor(dataset[0][\"audio\"][\"array\"], sampling_rate=sampling_rate, return_tensors=\"pt\")"
      ],
      "metadata": {
        "id": "xxuYUQAZxulw"
      },
      "execution_count": 14,
      "outputs": []
    },
    {
      "cell_type": "code",
      "source": [
        "with torch.no_grad():\n",
        "    logits = model(**inputs).logits\n",
        "predicted_ids = torch.argmax(logits, dim=-1)"
      ],
      "metadata": {
        "id": "nvBtB-XVuNIE"
      },
      "execution_count": null,
      "outputs": []
    },
    {
      "cell_type": "code",
      "source": [
        "transcription = processor.batch_decode(predicted_ids)\n",
        "transcription[0]"
      ],
      "metadata": {
        "colab": {
          "base_uri": "https://localhost:8080/",
          "height": 53
        },
        "id": "KRJYZuAw0Pxl",
        "outputId": "445db592-0d09-4dc6-c3dc-58d1b81cab29"
      },
      "execution_count": 16,
      "outputs": [
        {
          "output_type": "execute_result",
          "data": {
            "text/plain": [
              "\"XJ<s>EJNXJVJXJIXJVJEWAIVTTHIJWXETXUTWTIID'TJAIXUTITNJXXAXJXM<unk>ESXOTJXJEJEJETAXJEIRUNTIJIWTX<s>XJXZ<unk>J<unk><s>JEXERTEIEIESOJEEWTRWTETWARITDIETVIJMIJ<unk>ITRVWNWAJXRIAJXEJEIAWEIRWEWXVXRWTUEIEARWTIJXWREH<s>EXJAIXEIETXTXJEINEJVQJXJXQJX\""
            ],
            "application/vnd.google.colaboratory.intrinsic+json": {
              "type": "string"
            }
          },
          "metadata": {},
          "execution_count": 16
        }
      ]
    },
    {
      "cell_type": "code",
      "source": [
        "model.load_state_dict(Wav2Vec2ForCTC.from_pretrained('facebook/wav2vec2-large-960h', config=config).state_dict(),strict = False)"
      ],
      "metadata": {
        "colab": {
          "base_uri": "https://localhost:8080/"
        },
        "id": "fWCKtp790Q-9",
        "outputId": "a2befa53-efc5-47cb-dd01-4f4c3dbf8ad4"
      },
      "execution_count": 18,
      "outputs": [
        {
          "output_type": "stream",
          "name": "stderr",
          "text": [
            "Some weights of Wav2Vec2ForCTC were not initialized from the model checkpoint at facebook/wav2vec2-large-960h and are newly initialized: ['wav2vec2.masked_spec_embed']\n",
            "You should probably TRAIN this model on a down-stream task to be able to use it for predictions and inference.\n"
          ]
        },
        {
          "output_type": "execute_result",
          "data": {
            "text/plain": [
              "_IncompatibleKeys(missing_keys=['wav2vec2.encoder.score_predictor.0.in_conv.0.weight', 'wav2vec2.encoder.score_predictor.0.in_conv.0.bias', 'wav2vec2.encoder.score_predictor.0.in_conv.1.weight', 'wav2vec2.encoder.score_predictor.0.in_conv.1.bias', 'wav2vec2.encoder.score_predictor.0.out_conv.0.weight', 'wav2vec2.encoder.score_predictor.0.out_conv.0.bias', 'wav2vec2.encoder.score_predictor.0.out_conv.2.weight', 'wav2vec2.encoder.score_predictor.0.out_conv.2.bias', 'wav2vec2.encoder.score_predictor.0.out_conv.4.weight', 'wav2vec2.encoder.score_predictor.0.out_conv.4.bias', 'wav2vec2.encoder.score_predictor.1.in_conv.0.weight', 'wav2vec2.encoder.score_predictor.1.in_conv.0.bias', 'wav2vec2.encoder.score_predictor.1.in_conv.1.weight', 'wav2vec2.encoder.score_predictor.1.in_conv.1.bias', 'wav2vec2.encoder.score_predictor.1.out_conv.0.weight', 'wav2vec2.encoder.score_predictor.1.out_conv.0.bias', 'wav2vec2.encoder.score_predictor.1.out_conv.2.weight', 'wav2vec2.encoder.score_predictor.1.out_conv.2.bias', 'wav2vec2.encoder.score_predictor.1.out_conv.4.weight', 'wav2vec2.encoder.score_predictor.1.out_conv.4.bias', 'wav2vec2.encoder.score_predictor.2.in_conv.0.weight', 'wav2vec2.encoder.score_predictor.2.in_conv.0.bias', 'wav2vec2.encoder.score_predictor.2.in_conv.1.weight', 'wav2vec2.encoder.score_predictor.2.in_conv.1.bias', 'wav2vec2.encoder.score_predictor.2.out_conv.0.weight', 'wav2vec2.encoder.score_predictor.2.out_conv.0.bias', 'wav2vec2.encoder.score_predictor.2.out_conv.2.weight', 'wav2vec2.encoder.score_predictor.2.out_conv.2.bias', 'wav2vec2.encoder.score_predictor.2.out_conv.4.weight', 'wav2vec2.encoder.score_predictor.2.out_conv.4.bias', 'wav2vec2.encoder.score_predictor.3.in_conv.0.weight', 'wav2vec2.encoder.score_predictor.3.in_conv.0.bias', 'wav2vec2.encoder.score_predictor.3.in_conv.1.weight', 'wav2vec2.encoder.score_predictor.3.in_conv.1.bias', 'wav2vec2.encoder.score_predictor.3.out_conv.0.weight', 'wav2vec2.encoder.score_predictor.3.out_conv.0.bias', 'wav2vec2.encoder.score_predictor.3.out_conv.2.weight', 'wav2vec2.encoder.score_predictor.3.out_conv.2.bias', 'wav2vec2.encoder.score_predictor.3.out_conv.4.weight', 'wav2vec2.encoder.score_predictor.3.out_conv.4.bias', 'wav2vec2.encoder.score_predictor.4.in_conv.0.weight', 'wav2vec2.encoder.score_predictor.4.in_conv.0.bias', 'wav2vec2.encoder.score_predictor.4.in_conv.1.weight', 'wav2vec2.encoder.score_predictor.4.in_conv.1.bias', 'wav2vec2.encoder.score_predictor.4.out_conv.0.weight', 'wav2vec2.encoder.score_predictor.4.out_conv.0.bias', 'wav2vec2.encoder.score_predictor.4.out_conv.2.weight', 'wav2vec2.encoder.score_predictor.4.out_conv.2.bias', 'wav2vec2.encoder.score_predictor.4.out_conv.4.weight', 'wav2vec2.encoder.score_predictor.4.out_conv.4.bias', 'wav2vec2.encoder.score_predictor.5.in_conv.0.weight', 'wav2vec2.encoder.score_predictor.5.in_conv.0.bias', 'wav2vec2.encoder.score_predictor.5.in_conv.1.weight', 'wav2vec2.encoder.score_predictor.5.in_conv.1.bias', 'wav2vec2.encoder.score_predictor.5.out_conv.0.weight', 'wav2vec2.encoder.score_predictor.5.out_conv.0.bias', 'wav2vec2.encoder.score_predictor.5.out_conv.2.weight', 'wav2vec2.encoder.score_predictor.5.out_conv.2.bias', 'wav2vec2.encoder.score_predictor.5.out_conv.4.weight', 'wav2vec2.encoder.score_predictor.5.out_conv.4.bias', 'wav2vec2.encoder.score_predictor.6.in_conv.0.weight', 'wav2vec2.encoder.score_predictor.6.in_conv.0.bias', 'wav2vec2.encoder.score_predictor.6.in_conv.1.weight', 'wav2vec2.encoder.score_predictor.6.in_conv.1.bias', 'wav2vec2.encoder.score_predictor.6.out_conv.0.weight', 'wav2vec2.encoder.score_predictor.6.out_conv.0.bias', 'wav2vec2.encoder.score_predictor.6.out_conv.2.weight', 'wav2vec2.encoder.score_predictor.6.out_conv.2.bias', 'wav2vec2.encoder.score_predictor.6.out_conv.4.weight', 'wav2vec2.encoder.score_predictor.6.out_conv.4.bias', 'wav2vec2.encoder.score_predictor.7.in_conv.0.weight', 'wav2vec2.encoder.score_predictor.7.in_conv.0.bias', 'wav2vec2.encoder.score_predictor.7.in_conv.1.weight', 'wav2vec2.encoder.score_predictor.7.in_conv.1.bias', 'wav2vec2.encoder.score_predictor.7.out_conv.0.weight', 'wav2vec2.encoder.score_predictor.7.out_conv.0.bias', 'wav2vec2.encoder.score_predictor.7.out_conv.2.weight', 'wav2vec2.encoder.score_predictor.7.out_conv.2.bias', 'wav2vec2.encoder.score_predictor.7.out_conv.4.weight', 'wav2vec2.encoder.score_predictor.7.out_conv.4.bias', 'wav2vec2.encoder.score_predictor.8.in_conv.0.weight', 'wav2vec2.encoder.score_predictor.8.in_conv.0.bias', 'wav2vec2.encoder.score_predictor.8.in_conv.1.weight', 'wav2vec2.encoder.score_predictor.8.in_conv.1.bias', 'wav2vec2.encoder.score_predictor.8.out_conv.0.weight', 'wav2vec2.encoder.score_predictor.8.out_conv.0.bias', 'wav2vec2.encoder.score_predictor.8.out_conv.2.weight', 'wav2vec2.encoder.score_predictor.8.out_conv.2.bias', 'wav2vec2.encoder.score_predictor.8.out_conv.4.weight', 'wav2vec2.encoder.score_predictor.8.out_conv.4.bias', 'wav2vec2.encoder.score_predictor.9.in_conv.0.weight', 'wav2vec2.encoder.score_predictor.9.in_conv.0.bias', 'wav2vec2.encoder.score_predictor.9.in_conv.1.weight', 'wav2vec2.encoder.score_predictor.9.in_conv.1.bias', 'wav2vec2.encoder.score_predictor.9.out_conv.0.weight', 'wav2vec2.encoder.score_predictor.9.out_conv.0.bias', 'wav2vec2.encoder.score_predictor.9.out_conv.2.weight', 'wav2vec2.encoder.score_predictor.9.out_conv.2.bias', 'wav2vec2.encoder.score_predictor.9.out_conv.4.weight', 'wav2vec2.encoder.score_predictor.9.out_conv.4.bias', 'wav2vec2.encoder.score_predictor.10.in_conv.0.weight', 'wav2vec2.encoder.score_predictor.10.in_conv.0.bias', 'wav2vec2.encoder.score_predictor.10.in_conv.1.weight', 'wav2vec2.encoder.score_predictor.10.in_conv.1.bias', 'wav2vec2.encoder.score_predictor.10.out_conv.0.weight', 'wav2vec2.encoder.score_predictor.10.out_conv.0.bias', 'wav2vec2.encoder.score_predictor.10.out_conv.2.weight', 'wav2vec2.encoder.score_predictor.10.out_conv.2.bias', 'wav2vec2.encoder.score_predictor.10.out_conv.4.weight', 'wav2vec2.encoder.score_predictor.10.out_conv.4.bias', 'wav2vec2.encoder.score_predictor.11.in_conv.0.weight', 'wav2vec2.encoder.score_predictor.11.in_conv.0.bias', 'wav2vec2.encoder.score_predictor.11.in_conv.1.weight', 'wav2vec2.encoder.score_predictor.11.in_conv.1.bias', 'wav2vec2.encoder.score_predictor.11.out_conv.0.weight', 'wav2vec2.encoder.score_predictor.11.out_conv.0.bias', 'wav2vec2.encoder.score_predictor.11.out_conv.2.weight', 'wav2vec2.encoder.score_predictor.11.out_conv.2.bias', 'wav2vec2.encoder.score_predictor.11.out_conv.4.weight', 'wav2vec2.encoder.score_predictor.11.out_conv.4.bias', 'wav2vec2.encoder.score_predictor.12.in_conv.0.weight', 'wav2vec2.encoder.score_predictor.12.in_conv.0.bias', 'wav2vec2.encoder.score_predictor.12.in_conv.1.weight', 'wav2vec2.encoder.score_predictor.12.in_conv.1.bias', 'wav2vec2.encoder.score_predictor.12.out_conv.0.weight', 'wav2vec2.encoder.score_predictor.12.out_conv.0.bias', 'wav2vec2.encoder.score_predictor.12.out_conv.2.weight', 'wav2vec2.encoder.score_predictor.12.out_conv.2.bias', 'wav2vec2.encoder.score_predictor.12.out_conv.4.weight', 'wav2vec2.encoder.score_predictor.12.out_conv.4.bias', 'wav2vec2.encoder.score_predictor.13.in_conv.0.weight', 'wav2vec2.encoder.score_predictor.13.in_conv.0.bias', 'wav2vec2.encoder.score_predictor.13.in_conv.1.weight', 'wav2vec2.encoder.score_predictor.13.in_conv.1.bias', 'wav2vec2.encoder.score_predictor.13.out_conv.0.weight', 'wav2vec2.encoder.score_predictor.13.out_conv.0.bias', 'wav2vec2.encoder.score_predictor.13.out_conv.2.weight', 'wav2vec2.encoder.score_predictor.13.out_conv.2.bias', 'wav2vec2.encoder.score_predictor.13.out_conv.4.weight', 'wav2vec2.encoder.score_predictor.13.out_conv.4.bias', 'wav2vec2.encoder.score_predictor.14.in_conv.0.weight', 'wav2vec2.encoder.score_predictor.14.in_conv.0.bias', 'wav2vec2.encoder.score_predictor.14.in_conv.1.weight', 'wav2vec2.encoder.score_predictor.14.in_conv.1.bias', 'wav2vec2.encoder.score_predictor.14.out_conv.0.weight', 'wav2vec2.encoder.score_predictor.14.out_conv.0.bias', 'wav2vec2.encoder.score_predictor.14.out_conv.2.weight', 'wav2vec2.encoder.score_predictor.14.out_conv.2.bias', 'wav2vec2.encoder.score_predictor.14.out_conv.4.weight', 'wav2vec2.encoder.score_predictor.14.out_conv.4.bias', 'wav2vec2.encoder.score_predictor.15.in_conv.0.weight', 'wav2vec2.encoder.score_predictor.15.in_conv.0.bias', 'wav2vec2.encoder.score_predictor.15.in_conv.1.weight', 'wav2vec2.encoder.score_predictor.15.in_conv.1.bias', 'wav2vec2.encoder.score_predictor.15.out_conv.0.weight', 'wav2vec2.encoder.score_predictor.15.out_conv.0.bias', 'wav2vec2.encoder.score_predictor.15.out_conv.2.weight', 'wav2vec2.encoder.score_predictor.15.out_conv.2.bias', 'wav2vec2.encoder.score_predictor.15.out_conv.4.weight', 'wav2vec2.encoder.score_predictor.15.out_conv.4.bias', 'wav2vec2.encoder.score_predictor.16.in_conv.0.weight', 'wav2vec2.encoder.score_predictor.16.in_conv.0.bias', 'wav2vec2.encoder.score_predictor.16.in_conv.1.weight', 'wav2vec2.encoder.score_predictor.16.in_conv.1.bias', 'wav2vec2.encoder.score_predictor.16.out_conv.0.weight', 'wav2vec2.encoder.score_predictor.16.out_conv.0.bias', 'wav2vec2.encoder.score_predictor.16.out_conv.2.weight', 'wav2vec2.encoder.score_predictor.16.out_conv.2.bias', 'wav2vec2.encoder.score_predictor.16.out_conv.4.weight', 'wav2vec2.encoder.score_predictor.16.out_conv.4.bias', 'wav2vec2.encoder.score_predictor.17.in_conv.0.weight', 'wav2vec2.encoder.score_predictor.17.in_conv.0.bias', 'wav2vec2.encoder.score_predictor.17.in_conv.1.weight', 'wav2vec2.encoder.score_predictor.17.in_conv.1.bias', 'wav2vec2.encoder.score_predictor.17.out_conv.0.weight', 'wav2vec2.encoder.score_predictor.17.out_conv.0.bias', 'wav2vec2.encoder.score_predictor.17.out_conv.2.weight', 'wav2vec2.encoder.score_predictor.17.out_conv.2.bias', 'wav2vec2.encoder.score_predictor.17.out_conv.4.weight', 'wav2vec2.encoder.score_predictor.17.out_conv.4.bias', 'wav2vec2.encoder.score_predictor.18.in_conv.0.weight', 'wav2vec2.encoder.score_predictor.18.in_conv.0.bias', 'wav2vec2.encoder.score_predictor.18.in_conv.1.weight', 'wav2vec2.encoder.score_predictor.18.in_conv.1.bias', 'wav2vec2.encoder.score_predictor.18.out_conv.0.weight', 'wav2vec2.encoder.score_predictor.18.out_conv.0.bias', 'wav2vec2.encoder.score_predictor.18.out_conv.2.weight', 'wav2vec2.encoder.score_predictor.18.out_conv.2.bias', 'wav2vec2.encoder.score_predictor.18.out_conv.4.weight', 'wav2vec2.encoder.score_predictor.18.out_conv.4.bias', 'wav2vec2.encoder.score_predictor.19.in_conv.0.weight', 'wav2vec2.encoder.score_predictor.19.in_conv.0.bias', 'wav2vec2.encoder.score_predictor.19.in_conv.1.weight', 'wav2vec2.encoder.score_predictor.19.in_conv.1.bias', 'wav2vec2.encoder.score_predictor.19.out_conv.0.weight', 'wav2vec2.encoder.score_predictor.19.out_conv.0.bias', 'wav2vec2.encoder.score_predictor.19.out_conv.2.weight', 'wav2vec2.encoder.score_predictor.19.out_conv.2.bias', 'wav2vec2.encoder.score_predictor.19.out_conv.4.weight', 'wav2vec2.encoder.score_predictor.19.out_conv.4.bias', 'wav2vec2.encoder.score_predictor.20.in_conv.0.weight', 'wav2vec2.encoder.score_predictor.20.in_conv.0.bias', 'wav2vec2.encoder.score_predictor.20.in_conv.1.weight', 'wav2vec2.encoder.score_predictor.20.in_conv.1.bias', 'wav2vec2.encoder.score_predictor.20.out_conv.0.weight', 'wav2vec2.encoder.score_predictor.20.out_conv.0.bias', 'wav2vec2.encoder.score_predictor.20.out_conv.2.weight', 'wav2vec2.encoder.score_predictor.20.out_conv.2.bias', 'wav2vec2.encoder.score_predictor.20.out_conv.4.weight', 'wav2vec2.encoder.score_predictor.20.out_conv.4.bias', 'wav2vec2.encoder.score_predictor.21.in_conv.0.weight', 'wav2vec2.encoder.score_predictor.21.in_conv.0.bias', 'wav2vec2.encoder.score_predictor.21.in_conv.1.weight', 'wav2vec2.encoder.score_predictor.21.in_conv.1.bias', 'wav2vec2.encoder.score_predictor.21.out_conv.0.weight', 'wav2vec2.encoder.score_predictor.21.out_conv.0.bias', 'wav2vec2.encoder.score_predictor.21.out_conv.2.weight', 'wav2vec2.encoder.score_predictor.21.out_conv.2.bias', 'wav2vec2.encoder.score_predictor.21.out_conv.4.weight', 'wav2vec2.encoder.score_predictor.21.out_conv.4.bias', 'wav2vec2.encoder.score_predictor.22.in_conv.0.weight', 'wav2vec2.encoder.score_predictor.22.in_conv.0.bias', 'wav2vec2.encoder.score_predictor.22.in_conv.1.weight', 'wav2vec2.encoder.score_predictor.22.in_conv.1.bias', 'wav2vec2.encoder.score_predictor.22.out_conv.0.weight', 'wav2vec2.encoder.score_predictor.22.out_conv.0.bias', 'wav2vec2.encoder.score_predictor.22.out_conv.2.weight', 'wav2vec2.encoder.score_predictor.22.out_conv.2.bias', 'wav2vec2.encoder.score_predictor.22.out_conv.4.weight', 'wav2vec2.encoder.score_predictor.22.out_conv.4.bias', 'wav2vec2.encoder.score_predictor.23.in_conv.0.weight', 'wav2vec2.encoder.score_predictor.23.in_conv.0.bias', 'wav2vec2.encoder.score_predictor.23.in_conv.1.weight', 'wav2vec2.encoder.score_predictor.23.in_conv.1.bias', 'wav2vec2.encoder.score_predictor.23.out_conv.0.weight', 'wav2vec2.encoder.score_predictor.23.out_conv.0.bias', 'wav2vec2.encoder.score_predictor.23.out_conv.2.weight', 'wav2vec2.encoder.score_predictor.23.out_conv.2.bias', 'wav2vec2.encoder.score_predictor.23.out_conv.4.weight', 'wav2vec2.encoder.score_predictor.23.out_conv.4.bias'], unexpected_keys=[])"
            ]
          },
          "metadata": {},
          "execution_count": 18
        }
      ]
    },
    {
      "cell_type": "code",
      "source": [
        "with torch.no_grad():\n",
        "    logits = model(**inputs).logits\n",
        "predicted_ids = torch.argmax(logits, dim=-1)"
      ],
      "metadata": {
        "id": "JyGwE_wT0k2i"
      },
      "execution_count": null,
      "outputs": []
    },
    {
      "cell_type": "code",
      "source": [
        "transcription = processor.batch_decode(predicted_ids)\n",
        "transcription[0]"
      ],
      "metadata": {
        "colab": {
          "base_uri": "https://localhost:8080/",
          "height": 35
        },
        "id": "u8MpBbg20k0d",
        "outputId": "dfd20ac1-1b3a-43b4-ac4d-c32d7625a922"
      },
      "execution_count": 20,
      "outputs": [
        {
          "output_type": "execute_result",
          "data": {
            "text/plain": [
              "'T'"
            ],
            "application/vnd.google.colaboratory.intrinsic+json": {
              "type": "string"
            }
          },
          "metadata": {},
          "execution_count": 20
        }
      ]
    }
  ]
}